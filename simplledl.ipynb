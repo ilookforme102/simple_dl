{
 "cells": [
  {
   "cell_type": "code",
   "execution_count": 2,
   "metadata": {},
   "outputs": [],
   "source": [
    "import torch\n",
    "import numpy as np\n",
    "import torch.nn.functional as F\n"
   ]
  },
  {
   "cell_type": "code",
   "execution_count": 3,
   "metadata": {},
   "outputs": [
    {
     "name": "stderr",
     "output_type": "stream",
     "text": [
      "c:\\Users\\ilook\\AppData\\Local\\Programs\\Python\\Python310\\lib\\site-packages\\tqdm\\auto.py:21: TqdmWarning: IProgress not found. Please update jupyter and ipywidgets. See https://ipywidgets.readthedocs.io/en/stable/user_install.html\n",
      "  from .autonotebook import tqdm as notebook_tqdm\n"
     ]
    }
   ],
   "source": [
    "import torch.nn as nn\n",
    "import torch.optim as optim\n",
    "from torchvision import datasets, transforms\n",
    "from torch.utils.data import DataLoader"
   ]
  },
  {
   "cell_type": "code",
   "execution_count": 4,
   "metadata": {},
   "outputs": [
    {
     "name": "stdout",
     "output_type": "stream",
     "text": [
      "tensor([[-0.6203,  1.8579,  0.7857],\n",
      "        [ 1.5069,  0.5862,  0.1071],\n",
      "        [ 0.5209,  0.0277,  2.2693]])\n"
     ]
    }
   ],
   "source": [
    "\n",
    "# Create a tensor of size 3x3 with random values\n",
    "tensor = torch.randn(3, 3)\n",
    "print(tensor)"
   ]
  },
  {
   "cell_type": "code",
   "execution_count": 5,
   "metadata": {},
   "outputs": [
    {
     "name": "stdout",
     "output_type": "stream",
     "text": [
      "[1, 2, 3, 4, 5]\n",
      "tensor([1, 2, 3, 4, 5])\n"
     ]
    }
   ],
   "source": [
    "import torch\n",
    "\n",
    "# Create a PyTorch tensor\n",
    "tensor = torch.tensor([1, 2, 3, 4, 5])\n",
    "\n",
    "# Convert the tensor to a Python list\n",
    "tensor_list = tensor.tolist()\n",
    "\n",
    "print(tensor_list)\n",
    "print(tensor)"
   ]
  },
  {
   "cell_type": "code",
   "execution_count": 6,
   "metadata": {},
   "outputs": [
    {
     "data": {
      "text/plain": [
       "tensor([0, 1, 2, 3, 4, 5, 6, 7, 8, 9])"
      ]
     },
     "execution_count": 6,
     "metadata": {},
     "output_type": "execute_result"
    }
   ],
   "source": [
    "mytorch1 =  torch.arange(0, 10)\n",
    "mytorch1"
   ]
  },
  {
   "cell_type": "code",
   "execution_count": 7,
   "metadata": {},
   "outputs": [
    {
     "data": {
      "text/plain": [
       "tensor([[0, 1, 2, 3, 4],\n",
       "        [5, 6, 7, 8, 9]])"
      ]
     },
     "execution_count": 7,
     "metadata": {},
     "output_type": "execute_result"
    }
   ],
   "source": [
    "mytorch1.view(2,5)"
   ]
  },
  {
   "cell_type": "code",
   "execution_count": 8,
   "metadata": {},
   "outputs": [
    {
     "data": {
      "text/plain": [
       "tensor([[0, 1, 2, 3, 4],\n",
       "        [5, 6, 7, 8, 9]])"
      ]
     },
     "execution_count": 8,
     "metadata": {},
     "output_type": "execute_result"
    }
   ],
   "source": [
    "mytorch1.reshape(2,5)"
   ]
  },
  {
   "cell_type": "code",
   "execution_count": 9,
   "metadata": {},
   "outputs": [],
   "source": [
    "mytorch2 = torch.arange(10)\n",
    "mytorch2 = mytorch2.reshape(2,5)"
   ]
  },
  {
   "cell_type": "code",
   "execution_count": 10,
   "metadata": {},
   "outputs": [
    {
     "data": {
      "text/plain": [
       "tensor([[0, 1, 2, 3, 4],\n",
       "        [5, 6, 7, 8, 9]])"
      ]
     },
     "execution_count": 10,
     "metadata": {},
     "output_type": "execute_result"
    }
   ],
   "source": [
    "mytorch2.reshape(-1,5)"
   ]
  },
  {
   "cell_type": "code",
   "execution_count": 11,
   "metadata": {},
   "outputs": [],
   "source": [
    "mytorch3 = torch.arange(10)\n",
    "mytorch3 = mytorch3.view(2,5)"
   ]
  },
  {
   "cell_type": "code",
   "execution_count": 12,
   "metadata": {},
   "outputs": [
    {
     "data": {
      "text/plain": [
       "tensor([[0, 1, 2, 3, 4],\n",
       "        [5, 6, 7, 8, 9]])"
      ]
     },
     "execution_count": 12,
     "metadata": {},
     "output_type": "execute_result"
    }
   ],
   "source": [
    "mytorch3.contiguous()"
   ]
  },
  {
   "cell_type": "code",
   "execution_count": 13,
   "metadata": {},
   "outputs": [
    {
     "data": {
      "text/plain": [
       "tensor([[0, 5],\n",
       "        [1, 6],\n",
       "        [2, 7],\n",
       "        [3, 8],\n",
       "        [4, 9]])"
      ]
     },
     "execution_count": 13,
     "metadata": {},
     "output_type": "execute_result"
    }
   ],
   "source": [
    "mytorch3.T"
   ]
  },
  {
   "cell_type": "code",
   "execution_count": 14,
   "metadata": {},
   "outputs": [
    {
     "name": "stdout",
     "output_type": "stream",
     "text": [
      "Row:2, Column:5\n"
     ]
    }
   ],
   "source": [
    "rows,column = mytorch3.shape\n",
    "print(f\"Row:{rows}, Column:{column}\")"
   ]
  },
  {
   "cell_type": "code",
   "execution_count": 15,
   "metadata": {},
   "outputs": [
    {
     "data": {
      "text/plain": [
       "tensor([4, 9])"
      ]
     },
     "execution_count": 15,
     "metadata": {},
     "output_type": "execute_result"
    }
   ],
   "source": [
    "mytorch3[:,4]"
   ]
  },
  {
   "cell_type": "code",
   "execution_count": 16,
   "metadata": {},
   "outputs": [
    {
     "data": {
      "text/plain": [
       "tensor([[ 0,  2,  4,  6,  8],\n",
       "        [10, 12, 14, 16, 18]])"
      ]
     },
     "execution_count": 16,
     "metadata": {},
     "output_type": "execute_result"
    }
   ],
   "source": [
    "mytorch4 = torch.arange(0,19,2).reshape(2,5)\n",
    "mytorch4"
   ]
  },
  {
   "cell_type": "code",
   "execution_count": 17,
   "metadata": {},
   "outputs": [
    {
     "data": {
      "text/plain": [
       "tensor([[ 0,  3,  6,  9, 12],\n",
       "        [15, 18, 21, 24, 27]])"
      ]
     },
     "execution_count": 17,
     "metadata": {},
     "output_type": "execute_result"
    }
   ],
   "source": [
    "mytorch3+mytorch4"
   ]
  },
  {
   "cell_type": "code",
   "execution_count": 18,
   "metadata": {},
   "outputs": [
    {
     "data": {
      "text/plain": [
       "tensor([[  0,   2,   8,  18,  32],\n",
       "        [ 50,  72,  98, 128, 162]])"
      ]
     },
     "execution_count": 18,
     "metadata": {},
     "output_type": "execute_result"
    }
   ],
   "source": [
    "mytorch4 *mytorch3"
   ]
  },
  {
   "cell_type": "code",
   "execution_count": 19,
   "metadata": {},
   "outputs": [
    {
     "data": {
      "text/plain": [
       "tensor([[ 2,  3,  4,  5,  6],\n",
       "        [ 7,  8,  9, 10, 11]])"
      ]
     },
     "execution_count": 19,
     "metadata": {},
     "output_type": "execute_result"
    }
   ],
   "source": [
    "mytorch3.add(2\n",
    ")"
   ]
  },
  {
   "cell_type": "code",
   "execution_count": 20,
   "metadata": {},
   "outputs": [
    {
     "data": {
      "text/plain": [
       "tensor([[0.0000, 0.5000, 1.0000, 1.5000, 2.0000],\n",
       "        [2.5000, 3.0000, 3.5000, 4.0000, 4.5000]])"
      ]
     },
     "execution_count": 20,
     "metadata": {},
     "output_type": "execute_result"
    }
   ],
   "source": [
    "torch.div(mytorch3,2)"
   ]
  },
  {
   "cell_type": "code",
   "execution_count": 21,
   "metadata": {},
   "outputs": [
    {
     "data": {
      "text/plain": [
       "tensor([[   nan, 0.5000, 0.5000, 0.5000, 0.5000],\n",
       "        [0.5000, 0.5000, 0.5000, 0.5000, 0.5000]])"
      ]
     },
     "execution_count": 21,
     "metadata": {},
     "output_type": "execute_result"
    }
   ],
   "source": [
    "torch.div(mytorch3,mytorch4)"
   ]
  },
  {
   "cell_type": "code",
   "execution_count": 22,
   "metadata": {},
   "outputs": [],
   "source": [
    "import numpy as np\n"
   ]
  },
  {
   "cell_type": "code",
   "execution_count": null,
   "metadata": {},
   "outputs": [],
   "source": []
  },
  {
   "cell_type": "code",
   "execution_count": 23,
   "metadata": {},
   "outputs": [
    {
     "data": {
      "text/plain": [
       "<function Tensor.numpy>"
      ]
     },
     "execution_count": 23,
     "metadata": {},
     "output_type": "execute_result"
    }
   ],
   "source": [
    "mytorch5 = mytorch4.numpy\n",
    "mytorch5"
   ]
  },
  {
   "cell_type": "code",
   "execution_count": 24,
   "metadata": {},
   "outputs": [],
   "source": [
    "mytorch6 = mytorch4%3"
   ]
  },
  {
   "cell_type": "code",
   "execution_count": 25,
   "metadata": {},
   "outputs": [
    {
     "data": {
      "text/plain": [
       "tensor(0)"
      ]
     },
     "execution_count": 25,
     "metadata": {},
     "output_type": "execute_result"
    }
   ],
   "source": [
    "mytorch6[1,1]"
   ]
  },
  {
   "cell_type": "code",
   "execution_count": 26,
   "metadata": {},
   "outputs": [
    {
     "data": {
      "text/plain": [
       "tensor([[0, 4, 1, 0, 4],\n",
       "        [1, 0, 4, 1, 0]])"
      ]
     },
     "execution_count": 26,
     "metadata": {},
     "output_type": "execute_result"
    }
   ],
   "source": [
    "torch.pow(mytorch6,2)"
   ]
  },
  {
   "cell_type": "code",
   "execution_count": 27,
   "metadata": {},
   "outputs": [],
   "source": [
    "class Model(nn.Module):\n",
    "    # Input layer: 4 feature of the flower \n",
    "    # -> hidden layer H1 (unknown neurons) -> \n",
    "    # Hidden layer 2 (unknown neurons) -> \n",
    "    # output layer: 3 classes\n",
    "    def __init__(self,in_features = 4, h1 = 8, h2=9, out_features = 3) :\n",
    "        super().__init__() # Instantinate the our nn.Module\n",
    "        self.fc1 = nn.Linear(in_features,h1)\n",
    "        self.fc2 = nn.Linear(h1,h2)\n",
    "        self.out = nn.Linear(h2,out_features)\n",
    "    def forward(self,x):\n",
    "        x = F.relu(self.fc1(x))\n",
    "        x = F.relu(self.fc2(x))\n",
    "        x = self.out(x)\n",
    "        return x"
   ]
  },
  {
   "cell_type": "code",
   "execution_count": 28,
   "metadata": {},
   "outputs": [],
   "source": [
    "# Random seed for reproducibility\n",
    "torch.manual_seed(41)\n",
    "model = Model()"
   ]
  },
  {
   "cell_type": "code",
   "execution_count": 29,
   "metadata": {},
   "outputs": [],
   "source": [
    "import matplotlib.pyplot as plt\n",
    "%matplotlib inline"
   ]
  },
  {
   "cell_type": "code",
   "execution_count": 30,
   "metadata": {},
   "outputs": [],
   "source": [
    "from sklearn.datasets import load_iris\n",
    "\n",
    "iris = load_iris()\n",
    "# Load the Irish dataset\n",
    "\n"
   ]
  },
  {
   "cell_type": "markdown",
   "metadata": {},
   "source": []
  },
  {
   "cell_type": "code",
   "execution_count": 31,
   "metadata": {},
   "outputs": [
    {
     "data": {
      "text/plain": [
       "['sepal length (cm)',\n",
       " 'sepal width (cm)',\n",
       " 'petal length (cm)',\n",
       " 'petal width (cm)']"
      ]
     },
     "execution_count": 31,
     "metadata": {},
     "output_type": "execute_result"
    }
   ],
   "source": [
    "iris.feature_names"
   ]
  },
  {
   "cell_type": "code",
   "execution_count": 32,
   "metadata": {},
   "outputs": [],
   "source": [
    "import pandas as pd\n",
    "\n",
    "my_df = pd.DataFrame(data=iris.data, columns=iris.feature_names)"
   ]
  },
  {
   "cell_type": "code",
   "execution_count": 38,
   "metadata": {},
   "outputs": [
    {
     "data": {
      "text/plain": [
       "(150, 4)"
      ]
     },
     "execution_count": 38,
     "metadata": {},
     "output_type": "execute_result"
    }
   ],
   "source": [
    "my_df.shape"
   ]
  },
  {
   "cell_type": "code",
   "execution_count": 33,
   "metadata": {},
   "outputs": [],
   "source": [
    "my_df.columns = ['sepal.length', 'sepal.width', 'petal.length', 'petal.width']"
   ]
  },
  {
   "cell_type": "code",
   "execution_count": 34,
   "metadata": {},
   "outputs": [],
   "source": [
    "X = my_df.values\n"
   ]
  },
  {
   "cell_type": "code",
   "execution_count": 35,
   "metadata": {},
   "outputs": [
    {
     "data": {
      "text/plain": [
       "dict_keys(['data', 'target', 'frame', 'target_names', 'DESCR', 'feature_names', 'filename', 'data_module'])"
      ]
     },
     "execution_count": 35,
     "metadata": {},
     "output_type": "execute_result"
    }
   ],
   "source": [
    "iris.keys()"
   ]
  },
  {
   "cell_type": "code",
   "execution_count": 37,
   "metadata": {},
   "outputs": [
    {
     "data": {
      "text/plain": [
       "150"
      ]
     },
     "execution_count": 37,
     "metadata": {},
     "output_type": "execute_result"
    }
   ],
   "source": [
    "len(iris.target)"
   ]
  },
  {
   "cell_type": "code",
   "execution_count": 39,
   "metadata": {},
   "outputs": [],
   "source": [
    "y = iris.target"
   ]
  },
  {
   "cell_type": "code",
   "execution_count": 40,
   "metadata": {},
   "outputs": [
    {
     "name": "stdout",
     "output_type": "stream",
     "text": [
      "X_train shape: torch.Size([120, 4])\n",
      "X_test shape: torch.Size([30, 4])\n",
      "y_train shape: torch.Size([120])\n",
      "y_test shape: torch.Size([30])\n"
     ]
    }
   ],
   "source": [
    "from sklearn.model_selection import train_test_split\n",
    "\n",
    "\n",
    "# Perform train-test split\n",
    "X_train, X_test, y_train, y_test = train_test_split(X, y, test_size=0.2, random_state=42)\n",
    "X_train = torch.FloatTensor(X_train)\n",
    "y_train = torch.LongTensor(y_train)\n",
    "X_test = torch.FloatTensor(X_test)\n",
    "y_test = torch.LongTensor(y_test)\n",
    "# Print the shapes of the train and test sets\n",
    "print(\"X_train shape:\", X_train.shape)\n",
    "print(\"X_test shape:\", X_test.shape)\n",
    "print(\"y_train shape:\", y_train.shape)\n",
    "print(\"y_test shape:\", y_test.shape)"
   ]
  },
  {
   "cell_type": "code",
   "execution_count": 41,
   "metadata": {},
   "outputs": [],
   "source": [
    "# Set the criterion of model to measure the error, how far off the predictions are from the target\n",
    "criterion = nn.CrossEntropyLoss()\n",
    "# Set the optimizer to update the weights based on the loss, using the Adam optimizer\n",
    "# lr is the learning rate\n",
    "optimizer = torch.optim.Adam(model.parameters(), lr=0.01)\n"
   ]
  },
  {
   "cell_type": "markdown",
   "metadata": {},
   "source": []
  },
  {
   "cell_type": "markdown",
   "metadata": {},
   "source": []
  },
  {
   "cell_type": "code",
   "execution_count": 42,
   "metadata": {},
   "outputs": [
    {
     "data": {
      "text/plain": [
       "<bound method Module.parameters of Model(\n",
       "  (fc1): Linear(in_features=4, out_features=8, bias=True)\n",
       "  (fc2): Linear(in_features=8, out_features=9, bias=True)\n",
       "  (out): Linear(in_features=9, out_features=3, bias=True)\n",
       ")>"
      ]
     },
     "execution_count": 42,
     "metadata": {},
     "output_type": "execute_result"
    }
   ],
   "source": [
    "model.parameters"
   ]
  },
  {
   "cell_type": "code",
   "execution_count": 44,
   "metadata": {},
   "outputs": [
    {
     "name": "stdout",
     "output_type": "stream",
     "text": [
      "Epoch: 0 Loss: 0.07199296355247498\n",
      "Epoch: 10 Loss: 0.06560058891773224\n",
      "Epoch: 20 Loss: 0.060264427214860916\n",
      "Epoch: 30 Loss: 0.05662377551198006\n",
      "Epoch: 40 Loss: 0.054741308093070984\n",
      "Epoch: 50 Loss: 0.053824424743652344\n",
      "Epoch: 60 Loss: 0.05329592525959015\n",
      "Epoch: 70 Loss: 0.05281423032283783\n",
      "Epoch: 80 Loss: 0.05234219878911972\n",
      "Epoch: 90 Loss: 0.05192049220204353\n",
      "Epoch: 100 Loss: 0.051504429429769516\n",
      "Epoch: 110 Loss: 0.05109062418341637\n",
      "Epoch: 120 Loss: 0.050725869834423065\n",
      "Epoch: 130 Loss: 0.050357457250356674\n",
      "Epoch: 140 Loss: 0.05006161704659462\n",
      "Epoch: 150 Loss: 0.0497550293803215\n",
      "Epoch: 160 Loss: 0.04942198842763901\n",
      "Epoch: 170 Loss: 0.049156587570905685\n",
      "Epoch: 180 Loss: 0.04888380691409111\n",
      "Epoch: 190 Loss: 0.04881693050265312\n",
      "Epoch: 200 Loss: 0.04841645061969757\n",
      "Epoch: 210 Loss: 0.048248156905174255\n",
      "Epoch: 220 Loss: 0.04804890975356102\n",
      "Epoch: 230 Loss: 0.04810589924454689\n",
      "Epoch: 240 Loss: 0.04802343621850014\n",
      "Epoch: 250 Loss: 0.047743186354637146\n",
      "Epoch: 260 Loss: 0.047537337988615036\n",
      "Epoch: 270 Loss: 0.04743935167789459\n",
      "Epoch: 280 Loss: 0.04734139144420624\n",
      "Epoch: 290 Loss: 0.04724545031785965\n",
      "Epoch: 300 Loss: 0.04726322740316391\n",
      "Epoch: 310 Loss: 0.04811049625277519\n",
      "Epoch: 320 Loss: 0.047064706683158875\n",
      "Epoch: 330 Loss: 0.047119978815317154\n",
      "Epoch: 340 Loss: 0.04698861017823219\n",
      "Epoch: 350 Loss: 0.04695931822061539\n",
      "Epoch: 360 Loss: 0.0469125360250473\n",
      "Epoch: 370 Loss: 0.04687870293855667\n",
      "Epoch: 380 Loss: 0.04684947803616524\n",
      "Epoch: 390 Loss: 0.04682271555066109\n",
      "Epoch: 400 Loss: 0.04679940640926361\n",
      "Epoch: 410 Loss: 0.04677846282720566\n",
      "Epoch: 420 Loss: 0.04675968736410141\n",
      "Epoch: 430 Loss: 0.04674847424030304\n",
      "Epoch: 440 Loss: 0.04913143068552017\n",
      "Epoch: 450 Loss: 0.0473066009581089\n",
      "Epoch: 460 Loss: 0.04676109179854393\n",
      "Epoch: 470 Loss: 0.046762336045503616\n",
      "Epoch: 480 Loss: 0.04669976979494095\n",
      "Epoch: 490 Loss: 0.04669777676463127\n",
      "Epoch: 500 Loss: 0.04668137803673744\n",
      "Epoch: 510 Loss: 0.04667247086763382\n",
      "Epoch: 520 Loss: 0.04666602611541748\n",
      "Epoch: 530 Loss: 0.04666031152009964\n",
      "Epoch: 540 Loss: 0.04665498435497284\n",
      "Epoch: 550 Loss: 0.04665027931332588\n",
      "Epoch: 560 Loss: 0.04664597287774086\n",
      "Epoch: 570 Loss: 0.04664214700460434\n",
      "Epoch: 580 Loss: 0.046638693660497665\n",
      "Epoch: 590 Loss: 0.04663555696606636\n",
      "Epoch: 600 Loss: 0.04663267359137535\n",
      "Epoch: 610 Loss: 0.046636149287223816\n",
      "Epoch: 620 Loss: 0.04913659021258354\n",
      "Epoch: 630 Loss: 0.047314684838056564\n",
      "Epoch: 640 Loss: 0.046779993921518326\n",
      "Epoch: 650 Loss: 0.04665335640311241\n",
      "Epoch: 660 Loss: 0.046657923609018326\n",
      "Epoch: 670 Loss: 0.046623311936855316\n",
      "Epoch: 680 Loss: 0.04662128537893295\n",
      "Epoch: 690 Loss: 0.04662003740668297\n",
      "Epoch: 700 Loss: 0.04661814495921135\n",
      "Epoch: 710 Loss: 0.046616505831480026\n",
      "Epoch: 720 Loss: 0.04661519080400467\n",
      "Epoch: 730 Loss: 0.04661405086517334\n",
      "Epoch: 740 Loss: 0.046613000333309174\n",
      "Epoch: 750 Loss: 0.0466119721531868\n",
      "Epoch: 760 Loss: 0.046611037105321884\n",
      "Epoch: 770 Loss: 0.04661019146442413\n",
      "Epoch: 780 Loss: 0.04660934954881668\n",
      "Epoch: 790 Loss: 0.04660853371024132\n",
      "Epoch: 800 Loss: 0.04660782590508461\n",
      "Epoch: 810 Loss: 0.0466071218252182\n",
      "Epoch: 820 Loss: 0.04660646989941597\n",
      "Epoch: 830 Loss: 0.04661284014582634\n",
      "Epoch: 840 Loss: 0.0487641915678978\n",
      "Epoch: 850 Loss: 0.04675987735390663\n",
      "Epoch: 860 Loss: 0.04686610773205757\n",
      "Epoch: 870 Loss: 0.04668121784925461\n",
      "Epoch: 880 Loss: 0.046605195850133896\n",
      "Epoch: 890 Loss: 0.04660893231630325\n",
      "Epoch: 900 Loss: 0.04660780355334282\n",
      "Epoch: 910 Loss: 0.046605005860328674\n",
      "Epoch: 920 Loss: 0.046603403985500336\n",
      "Epoch: 930 Loss: 0.04660248011350632\n",
      "Epoch: 940 Loss: 0.04660189524292946\n",
      "Epoch: 950 Loss: 0.04660140722990036\n",
      "Epoch: 960 Loss: 0.04660101607441902\n",
      "Epoch: 970 Loss: 0.046600591391325\n",
      "Epoch: 980 Loss: 0.046600233763456345\n",
      "Epoch: 990 Loss: 0.04659983888268471\n"
     ]
    }
   ],
   "source": [
    "# Train our model\n",
    "# Epoch ( one run thru all training data)\n",
    "epochs = 1000\n",
    "losses = []\n",
    "for i in range(epochs):\n",
    "    # Forward pass\n",
    "    y_pred = model.forward(X_train)\n",
    "    # Compute the loss\n",
    "    loss = criterion(y_pred, y_train)\n",
    "    losses.append(loss.detach().numpy())\n",
    "    if i % 10 == 0:\n",
    "        print(f'Epoch: {i} Loss: {loss.item()}')\n",
    "    # Do some backward propagation: take the errror rate of forward propagation\n",
    "    # and feed it back thru the netwrork to adjust the weights (fine -tuning)\n",
    "    # Zero the gradients\n",
    "    optimizer.zero_grad()\n",
    "    # Backward pass\n",
    "    loss.backward()\n",
    "    # Update the weights\n",
    "    optimizer.step()"
   ]
  },
  {
   "cell_type": "code",
   "execution_count": 45,
   "metadata": {},
   "outputs": [
    {
     "data": {
      "text/plain": [
       "[<matplotlib.lines.Line2D at 0x23f0c9c3d00>]"
      ]
     },
     "execution_count": 45,
     "metadata": {},
     "output_type": "execute_result"
    },
    {
     "data": {
      "image/png": "[encoded data removed]",
      "text/plain": [
       "<Figure size 640x480 with 1 Axes>"
      ]
     },
     "metadata": {},
     "output_type": "display_data"
    }
   ],
   "source": [
    "plt.plot(range(epochs), losses)"
   ]
  },
  {
   "cell_type": "code",
   "execution_count": null,
   "metadata": {},
   "outputs": [],
   "source": []
  }
 ],
 "metadata": {
  "kernelspec": {
   "display_name": "Python 3",
   "language": "python",
   "name": "python3"
  },
  "language_info": {
   "codemirror_mode": {
    "name": "ipython",
    "version": 3
   },
   "file_extension": ".py",
   "mimetype": "text/x-python",
   "name": "python",
   "nbconvert_exporter": "python",
   "pygments_lexer": "ipython3",
   "version": "3.10.0"
  }
 },
 "nbformat": 4,
 "nbformat_minor": 2
}
