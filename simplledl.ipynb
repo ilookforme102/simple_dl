{
 "cells": [
  {
   "cell_type": "code",
   "execution_count": 3,
   "metadata": {},
   "outputs": [],
   "source": [
    "import torch\n",
    "import numpy as np\n",
    "import torch.nn.functional as F\n"
   ]
  },
  {
   "cell_type": "code",
   "execution_count": 4,
   "metadata": {},
   "outputs": [],
   "source": [
    "import torch.nn as nn\n",
    "import torch.optim as optim\n",
    "from torchvision import datasets, transforms\n",
    "from torch.utils.data import DataLoader"
   ]
  },
  {
   "cell_type": "code",
   "execution_count": 5,
   "metadata": {},
   "outputs": [
    {
     "name": "stdout",
     "output_type": "stream",
     "text": [
      "tensor([[ 0.7204, -0.9337,  0.8117],\n",
      "        [ 0.3155, -0.8590, -0.0803],\n",
      "        [-1.3347,  1.0322,  0.0632]])\n"
     ]
    }
   ],
   "source": [
    "\n",
    "# Create a tensor of size 3x3 with random values\n",
    "tensor = torch.randn(3, 3)\n",
    "print(tensor)"
   ]
  },
  {
   "cell_type": "code",
   "execution_count": 6,
   "metadata": {},
   "outputs": [
    {
     "name": "stdout",
     "output_type": "stream",
     "text": [
      "[1, 2, 3, 4, 5]\n",
      "tensor([1, 2, 3, 4, 5])\n"
     ]
    }
   ],
   "source": [
    "import torch\n",
    "\n",
    "# Create a PyTorch tensor\n",
    "tensor = torch.tensor([1, 2, 3, 4, 5])\n",
    "\n",
    "# Convert the tensor to a Python list\n",
    "tensor_list = tensor.tolist()\n",
    "\n",
    "print(tensor_list)\n",
    "print(tensor)"
   ]
  },
  {
   "cell_type": "code",
   "execution_count": 7,
   "metadata": {},
   "outputs": [
    {
     "data": {
      "text/plain": [
       "tensor([0, 1, 2, 3, 4, 5, 6, 7, 8, 9])"
      ]
     },
     "execution_count": 7,
     "metadata": {},
     "output_type": "execute_result"
    }
   ],
   "source": [
    "mytorch1 =  torch.arange(0, 10)\n",
    "mytorch1"
   ]
  },
  {
   "cell_type": "code",
   "execution_count": 8,
   "metadata": {},
   "outputs": [
    {
     "data": {
      "text/plain": [
       "tensor([[0, 1, 2, 3, 4],\n",
       "        [5, 6, 7, 8, 9]])"
      ]
     },
     "execution_count": 8,
     "metadata": {},
     "output_type": "execute_result"
    }
   ],
   "source": [
    "mytorch1.view(2,5)"
   ]
  },
  {
   "cell_type": "code",
   "execution_count": 9,
   "metadata": {},
   "outputs": [
    {
     "data": {
      "text/plain": [
       "tensor([[0, 1, 2, 3, 4],\n",
       "        [5, 6, 7, 8, 9]])"
      ]
     },
     "execution_count": 9,
     "metadata": {},
     "output_type": "execute_result"
    }
   ],
   "source": [
    "mytorch1.reshape(2,5)"
   ]
  },
  {
   "cell_type": "code",
   "execution_count": 10,
   "metadata": {},
   "outputs": [],
   "source": [
    "mytorch2 = torch.arange(10)\n",
    "mytorch2 = mytorch2.reshape(2,5)"
   ]
  },
  {
   "cell_type": "code",
   "execution_count": 11,
   "metadata": {},
   "outputs": [
    {
     "data": {
      "text/plain": [
       "tensor([[0, 1, 2, 3, 4],\n",
       "        [5, 6, 7, 8, 9]])"
      ]
     },
     "execution_count": 11,
     "metadata": {},
     "output_type": "execute_result"
    }
   ],
   "source": [
    "mytorch2.reshape(-1,5)"
   ]
  },
  {
   "cell_type": "code",
   "execution_count": 12,
   "metadata": {},
   "outputs": [],
   "source": [
    "mytorch3 = torch.arange(10)\n",
    "mytorch3 = mytorch3.view(2,5)"
   ]
  },
  {
   "cell_type": "code",
   "execution_count": 13,
   "metadata": {},
   "outputs": [
    {
     "data": {
      "text/plain": [
       "tensor([[0, 1, 2, 3, 4],\n",
       "        [5, 6, 7, 8, 9]])"
      ]
     },
     "execution_count": 13,
     "metadata": {},
     "output_type": "execute_result"
    }
   ],
   "source": [
    "mytorch3.contiguous()"
   ]
  },
  {
   "cell_type": "code",
   "execution_count": 14,
   "metadata": {},
   "outputs": [
    {
     "data": {
      "text/plain": [
       "tensor([[0, 5],\n",
       "        [1, 6],\n",
       "        [2, 7],\n",
       "        [3, 8],\n",
       "        [4, 9]])"
      ]
     },
     "execution_count": 14,
     "metadata": {},
     "output_type": "execute_result"
    }
   ],
   "source": [
    "mytorch3.T"
   ]
  },
  {
   "cell_type": "code",
   "execution_count": 15,
   "metadata": {},
   "outputs": [
    {
     "name": "stdout",
     "output_type": "stream",
     "text": [
      "Row:2, Column:5\n"
     ]
    }
   ],
   "source": [
    "rows,column = mytorch3.shape\n",
    "print(f\"Row:{rows}, Column:{column}\")"
   ]
  },
  {
   "cell_type": "code",
   "execution_count": 16,
   "metadata": {},
   "outputs": [
    {
     "data": {
      "text/plain": [
       "tensor([4, 9])"
      ]
     },
     "execution_count": 16,
     "metadata": {},
     "output_type": "execute_result"
    }
   ],
   "source": [
    "mytorch3[:,4]"
   ]
  },
  {
   "cell_type": "code",
   "execution_count": 17,
   "metadata": {},
   "outputs": [
    {
     "data": {
      "text/plain": [
       "tensor([[ 0,  2,  4,  6,  8],\n",
       "        [10, 12, 14, 16, 18]])"
      ]
     },
     "execution_count": 17,
     "metadata": {},
     "output_type": "execute_result"
    }
   ],
   "source": [
    "mytorch4 = torch.arange(0,19,2).reshape(2,5)\n",
    "mytorch4"
   ]
  },
  {
   "cell_type": "code",
   "execution_count": 18,
   "metadata": {},
   "outputs": [
    {
     "data": {
      "text/plain": [
       "tensor([[ 0,  3,  6,  9, 12],\n",
       "        [15, 18, 21, 24, 27]])"
      ]
     },
     "execution_count": 18,
     "metadata": {},
     "output_type": "execute_result"
    }
   ],
   "source": [
    "mytorch3+mytorch4"
   ]
  },
  {
   "cell_type": "code",
   "execution_count": 19,
   "metadata": {},
   "outputs": [
    {
     "data": {
      "text/plain": [
       "tensor([[  0,   2,   8,  18,  32],\n",
       "        [ 50,  72,  98, 128, 162]])"
      ]
     },
     "execution_count": 19,
     "metadata": {},
     "output_type": "execute_result"
    }
   ],
   "source": [
    "mytorch4 *mytorch3"
   ]
  },
  {
   "cell_type": "code",
   "execution_count": 20,
   "metadata": {},
   "outputs": [
    {
     "data": {
      "text/plain": [
       "tensor([[ 2,  3,  4,  5,  6],\n",
       "        [ 7,  8,  9, 10, 11]])"
      ]
     },
     "execution_count": 20,
     "metadata": {},
     "output_type": "execute_result"
    }
   ],
   "source": [
    "mytorch3.add(2\n",
    ")"
   ]
  },
  {
   "cell_type": "code",
   "execution_count": 21,
   "metadata": {},
   "outputs": [
    {
     "data": {
      "text/plain": [
       "tensor([[0.0000, 0.5000, 1.0000, 1.5000, 2.0000],\n",
       "        [2.5000, 3.0000, 3.5000, 4.0000, 4.5000]])"
      ]
     },
     "execution_count": 21,
     "metadata": {},
     "output_type": "execute_result"
    }
   ],
   "source": [
    "torch.div(mytorch3,2)"
   ]
  },
  {
   "cell_type": "code",
   "execution_count": 22,
   "metadata": {},
   "outputs": [
    {
     "data": {
      "text/plain": [
       "tensor([[   nan, 0.5000, 0.5000, 0.5000, 0.5000],\n",
       "        [0.5000, 0.5000, 0.5000, 0.5000, 0.5000]])"
      ]
     },
     "execution_count": 22,
     "metadata": {},
     "output_type": "execute_result"
    }
   ],
   "source": [
    "torch.div(mytorch3,mytorch4)"
   ]
  },
  {
   "cell_type": "code",
   "execution_count": 23,
   "metadata": {},
   "outputs": [],
   "source": [
    "import numpy as np\n"
   ]
  },
  {
   "cell_type": "code",
   "execution_count": null,
   "metadata": {},
   "outputs": [],
   "source": []
  },
  {
   "cell_type": "code",
   "execution_count": 24,
   "metadata": {},
   "outputs": [
    {
     "data": {
      "text/plain": [
       "<function Tensor.numpy>"
      ]
     },
     "execution_count": 24,
     "metadata": {},
     "output_type": "execute_result"
    }
   ],
   "source": [
    "mytorch5 = mytorch4.numpy\n",
    "mytorch5"
   ]
  },
  {
   "cell_type": "code",
   "execution_count": 25,
   "metadata": {},
   "outputs": [],
   "source": [
    "mytorch6 = mytorch4%3"
   ]
  },
  {
   "cell_type": "code",
   "execution_count": 26,
   "metadata": {},
   "outputs": [
    {
     "data": {
      "text/plain": [
       "tensor(0)"
      ]
     },
     "execution_count": 26,
     "metadata": {},
     "output_type": "execute_result"
    }
   ],
   "source": [
    "mytorch6[1,1]"
   ]
  },
  {
   "cell_type": "code",
   "execution_count": 27,
   "metadata": {},
   "outputs": [
    {
     "data": {
      "text/plain": [
       "tensor([[0, 4, 1, 0, 4],\n",
       "        [1, 0, 4, 1, 0]])"
      ]
     },
     "execution_count": 27,
     "metadata": {},
     "output_type": "execute_result"
    }
   ],
   "source": [
    "torch.pow(mytorch6,2)"
   ]
  },
  {
   "cell_type": "code",
   "execution_count": 28,
   "metadata": {},
   "outputs": [],
   "source": [
    "class Model(nn.Module):\n",
    "    # Input layer: 4 feature of the flower \n",
    "    # -> hidden layer H1 (unknown neurons) -> \n",
    "    # Hidden layer 2 (unknown neurons) -> \n",
    "    # output layer: 3 classes\n",
    "    def __init__(self,in_features = 4, h1 = 8, h2=9, out_features = 3) :\n",
    "        super().__init__() # Instantinate the our nn.Module\n",
    "        self.fc1 = nn.Linear(in_features,h1)\n",
    "        self.fc2 = nn.Linear(h1,h2)\n",
    "        self.out = nn.Linear(h2,out_features)\n",
    "    def forward(self,x):\n",
    "        x = F.relu(self.fc1(x))\n",
    "        x = F.relu(self.fc2(x))\n",
    "        x = self.out(x)\n",
    "        return x"
   ]
  },
  {
   "cell_type": "code",
   "execution_count": 29,
   "metadata": {},
   "outputs": [],
   "source": [
    "# Random seed for reproducibility\n",
    "torch.manual_seed(41)\n",
    "model = Model()"
   ]
  },
  {
   "cell_type": "code",
   "execution_count": 30,
   "metadata": {},
   "outputs": [],
   "source": [
    "import matplotlib.pyplot as plt\n",
    "%matplotlib inline"
   ]
  },
  {
   "cell_type": "code",
   "execution_count": 31,
   "metadata": {},
   "outputs": [],
   "source": [
    "from sklearn.datasets import load_iris\n",
    "\n",
    "iris = load_iris()\n",
    "# Load the Irish dataset\n",
    "\n"
   ]
  },
  {
   "cell_type": "markdown",
   "metadata": {},
   "source": []
  },
  {
   "cell_type": "code",
   "execution_count": 32,
   "metadata": {},
   "outputs": [
    {
     "data": {
      "text/plain": [
       "['sepal length (cm)',\n",
       " 'sepal width (cm)',\n",
       " 'petal length (cm)',\n",
       " 'petal width (cm)']"
      ]
     },
     "execution_count": 32,
     "metadata": {},
     "output_type": "execute_result"
    }
   ],
   "source": [
    "iris.feature_names"
   ]
  },
  {
   "cell_type": "code",
   "execution_count": 33,
   "metadata": {},
   "outputs": [],
   "source": [
    "import pandas as pd\n",
    "\n",
    "my_df = pd.DataFrame(data=iris.data, columns=iris.feature_names)"
   ]
  },
  {
   "cell_type": "code",
   "execution_count": 34,
   "metadata": {},
   "outputs": [
    {
     "data": {
      "text/plain": [
       "(150, 4)"
      ]
     },
     "execution_count": 34,
     "metadata": {},
     "output_type": "execute_result"
    }
   ],
   "source": [
    "my_df.shape"
   ]
  },
  {
   "cell_type": "code",
   "execution_count": 35,
   "metadata": {},
   "outputs": [],
   "source": [
    "my_df.columns = ['sepal.length', 'sepal.width', 'petal.length', 'petal.width']"
   ]
  },
  {
   "cell_type": "code",
   "execution_count": 36,
   "metadata": {},
   "outputs": [],
   "source": [
    "X = my_df.values\n"
   ]
  },
  {
   "cell_type": "code",
   "execution_count": 37,
   "metadata": {},
   "outputs": [
    {
     "data": {
      "text/plain": [
       "dict_keys(['data', 'target', 'frame', 'target_names', 'DESCR', 'feature_names', 'filename', 'data_module'])"
      ]
     },
     "execution_count": 37,
     "metadata": {},
     "output_type": "execute_result"
    }
   ],
   "source": [
    "iris.keys()"
   ]
  },
  {
   "cell_type": "code",
   "execution_count": 38,
   "metadata": {},
   "outputs": [
    {
     "data": {
      "text/plain": [
       "150"
      ]
     },
     "execution_count": 38,
     "metadata": {},
     "output_type": "execute_result"
    }
   ],
   "source": [
    "len(iris.target)"
   ]
  },
  {
   "cell_type": "code",
   "execution_count": 39,
   "metadata": {},
   "outputs": [],
   "source": [
    "y = iris.target"
   ]
  },
  {
   "cell_type": "code",
   "execution_count": 40,
   "metadata": {},
   "outputs": [
    {
     "name": "stdout",
     "output_type": "stream",
     "text": [
      "X_train shape: torch.Size([120, 4])\n",
      "X_test shape: torch.Size([30, 4])\n",
      "y_train shape: torch.Size([120])\n",
      "y_test shape: torch.Size([30])\n"
     ]
    }
   ],
   "source": [
    "from sklearn.model_selection import train_test_split\n",
    "\n",
    "\n",
    "# Perform train-test split\n",
    "X_train, X_test, y_train, y_test = train_test_split(X, y, test_size=0.2, random_state=42)\n",
    "X_train = torch.FloatTensor(X_train)\n",
    "y_train = torch.LongTensor(y_train)\n",
    "X_test = torch.FloatTensor(X_test)\n",
    "y_test = torch.LongTensor(y_test)\n",
    "# Print the shapes of the train and test sets\n",
    "print(\"X_train shape:\", X_train.shape)\n",
    "print(\"X_test shape:\", X_test.shape)\n",
    "print(\"y_train shape:\", y_train.shape)\n",
    "print(\"y_test shape:\", y_test.shape)"
   ]
  },
  {
   "cell_type": "code",
   "execution_count": 41,
   "metadata": {},
   "outputs": [],
   "source": [
    "# Set the criterion of model to measure the error, how far off the predictions are from the target\n",
    "criterion = nn.CrossEntropyLoss()\n",
    "# Set the optimizer to update the weights based on the loss, using the Adam optimizer\n",
    "# lr is the learning rate\n",
    "optimizer = torch.optim.Adam(model.parameters(), lr=0.01)\n"
   ]
  },
  {
   "cell_type": "markdown",
   "metadata": {},
   "source": []
  },
  {
   "cell_type": "markdown",
   "metadata": {},
   "source": []
  },
  {
   "cell_type": "code",
   "execution_count": 42,
   "metadata": {},
   "outputs": [
    {
     "data": {
      "text/plain": [
       "<bound method Module.parameters of Model(\n",
       "  (fc1): Linear(in_features=4, out_features=8, bias=True)\n",
       "  (fc2): Linear(in_features=8, out_features=9, bias=True)\n",
       "  (out): Linear(in_features=9, out_features=3, bias=True)\n",
       ")>"
      ]
     },
     "execution_count": 42,
     "metadata": {},
     "output_type": "execute_result"
    }
   ],
   "source": [
    "model.parameters"
   ]
  },
  {
   "cell_type": "code",
   "execution_count": 123,
   "metadata": {},
   "outputs": [
    {
     "name": "stdout",
     "output_type": "stream",
     "text": [
      "Epoch: 0 Loss: 0.0466003380715847\n",
      "Epoch: 10 Loss: 0.04660780727863312\n",
      "Epoch: 20 Loss: 0.046605184674263\n",
      "Epoch: 30 Loss: 0.04659340903162956\n",
      "Epoch: 40 Loss: 0.04658515751361847\n",
      "Epoch: 50 Loss: 0.04658135026693344\n",
      "Epoch: 60 Loss: 0.046579889953136444\n",
      "Epoch: 70 Loss: 0.04657941684126854\n",
      "Epoch: 80 Loss: 0.046579379588365555\n",
      "Epoch: 90 Loss: 0.04657937213778496\n",
      "Epoch: 100 Loss: 0.04657928645610809\n",
      "Epoch: 110 Loss: 0.046579230576753616\n",
      "Epoch: 120 Loss: 0.04657919704914093\n",
      "Epoch: 130 Loss: 0.046579163521528244\n",
      "Epoch: 140 Loss: 0.04657914862036705\n",
      "Epoch: 150 Loss: 0.04657909646630287\n",
      "Epoch: 160 Loss: 0.04657907411456108\n",
      "Epoch: 170 Loss: 0.04657907783985138\n",
      "Epoch: 180 Loss: 0.0465790256857872\n",
      "Epoch: 190 Loss: 0.04657900705933571\n",
      "Epoch: 200 Loss: 0.04657900705933571\n",
      "Epoch: 210 Loss: 0.046578988432884216\n",
      "Epoch: 220 Loss: 0.04657898098230362\n",
      "Epoch: 230 Loss: 0.04657893255352974\n",
      "Epoch: 240 Loss: 0.04657892882823944\n",
      "Epoch: 250 Loss: 0.04657890275120735\n",
      "Epoch: 260 Loss: 0.04657886549830437\n",
      "Epoch: 270 Loss: 0.04657886177301407\n",
      "Epoch: 280 Loss: 0.04657921567559242\n",
      "Epoch: 290 Loss: 0.04668651521205902\n",
      "Epoch: 300 Loss: 0.04699735343456268\n",
      "Epoch: 310 Loss: 0.04667974263429642\n",
      "Epoch: 320 Loss: 0.0466320775449276\n",
      "Epoch: 330 Loss: 0.046669844537973404\n",
      "Epoch: 340 Loss: 0.04659229889512062\n",
      "Epoch: 350 Loss: 0.04658021405339241\n",
      "Epoch: 360 Loss: 0.046582285314798355\n",
      "Epoch: 370 Loss: 0.04658101126551628\n",
      "Epoch: 380 Loss: 0.04657994583249092\n",
      "Epoch: 390 Loss: 0.04657955467700958\n",
      "Epoch: 400 Loss: 0.04657940939068794\n",
      "Epoch: 410 Loss: 0.046579308807849884\n",
      "Epoch: 420 Loss: 0.04657925292849541\n",
      "Epoch: 430 Loss: 0.046579208225011826\n",
      "Epoch: 440 Loss: 0.04657914862036705\n",
      "Epoch: 450 Loss: 0.04657912626862526\n",
      "Epoch: 460 Loss: 0.04657907411456108\n",
      "Epoch: 470 Loss: 0.04657905921339989\n",
      "Epoch: 480 Loss: 0.04657900333404541\n",
      "Epoch: 490 Loss: 0.04657900705933571\n",
      "Epoch: 500 Loss: 0.04657895117998123\n",
      "Epoch: 510 Loss: 0.046578969806432724\n",
      "Epoch: 520 Loss: 0.046578940004110336\n",
      "Epoch: 530 Loss: 0.046578917652368546\n",
      "Epoch: 540 Loss: 0.04657888412475586\n",
      "Epoch: 550 Loss: 0.046578869223594666\n",
      "Epoch: 560 Loss: 0.046578869223594666\n",
      "Epoch: 570 Loss: 0.04657883942127228\n",
      "Epoch: 580 Loss: 0.046578824520111084\n",
      "Epoch: 590 Loss: 0.04657881706953049\n",
      "Epoch: 600 Loss: 0.04657880961894989\n",
      "Epoch: 610 Loss: 0.04657883569598198\n",
      "Epoch: 620 Loss: 0.04657883942127228\n",
      "Epoch: 630 Loss: 0.046585243195295334\n",
      "Epoch: 640 Loss: 0.04754580557346344\n",
      "Epoch: 650 Loss: 0.04755282402038574\n",
      "Epoch: 660 Loss: 0.04680515453219414\n",
      "Epoch: 670 Loss: 0.04664740338921547\n",
      "Epoch: 680 Loss: 0.04660046100616455\n",
      "Epoch: 690 Loss: 0.04658430442214012\n",
      "Epoch: 700 Loss: 0.04657972604036331\n",
      "Epoch: 710 Loss: 0.04657934606075287\n",
      "Epoch: 720 Loss: 0.046579644083976746\n",
      "Epoch: 730 Loss: 0.04657938331365585\n",
      "Epoch: 740 Loss: 0.04657909646630287\n",
      "Epoch: 750 Loss: 0.04657905548810959\n",
      "Epoch: 760 Loss: 0.0465790294110775\n",
      "Epoch: 770 Loss: 0.04657898098230362\n",
      "Epoch: 780 Loss: 0.04657893255352974\n",
      "Epoch: 790 Loss: 0.04657893255352974\n",
      "Epoch: 800 Loss: 0.04657889902591705\n",
      "Epoch: 810 Loss: 0.046578869223594666\n",
      "Epoch: 820 Loss: 0.04657883197069168\n",
      "Epoch: 830 Loss: 0.04657885059714317\n",
      "Epoch: 840 Loss: 0.046578824520111084\n",
      "Epoch: 850 Loss: 0.04657880216836929\n",
      "Epoch: 860 Loss: 0.0465787798166275\n",
      "Epoch: 870 Loss: 0.04657876491546631\n",
      "Epoch: 880 Loss: 0.04657873883843422\n",
      "Epoch: 890 Loss: 0.04657873138785362\n",
      "Epoch: 900 Loss: 0.046578872948884964\n",
      "Epoch: 910 Loss: 0.04659918323159218\n",
      "Epoch: 920 Loss: 0.04917901009321213\n",
      "Epoch: 930 Loss: 0.046579260379076004\n",
      "Epoch: 940 Loss: 0.04657943546772003\n",
      "Epoch: 950 Loss: 0.04658673331141472\n",
      "Epoch: 960 Loss: 0.046588581055402756\n",
      "Epoch: 970 Loss: 0.046584464609622955\n",
      "Epoch: 980 Loss: 0.0465812087059021\n",
      "Epoch: 990 Loss: 0.04657970368862152\n",
      "Epoch: 1000 Loss: 0.04657928645610809\n",
      "Epoch: 1010 Loss: 0.04657922312617302\n",
      "Epoch: 1020 Loss: 0.04657920077443123\n",
      "Epoch: 1030 Loss: 0.04657909646630287\n",
      "Epoch: 1040 Loss: 0.04657900333404541\n",
      "Epoch: 1050 Loss: 0.04657896235585213\n",
      "Epoch: 1060 Loss: 0.04657889902591705\n",
      "Epoch: 1070 Loss: 0.046578917652368546\n",
      "Epoch: 1080 Loss: 0.04657886549830437\n",
      "Epoch: 1090 Loss: 0.046578846871852875\n",
      "Epoch: 1100 Loss: 0.04657881334424019\n",
      "Epoch: 1110 Loss: 0.04657875373959541\n",
      "Epoch: 1120 Loss: 0.046578750014305115\n",
      "Epoch: 1130 Loss: 0.04657873883843422\n",
      "Epoch: 1140 Loss: 0.04657871276140213\n",
      "Epoch: 1150 Loss: 0.04657870531082153\n",
      "Epoch: 1160 Loss: 0.04657869040966034\n",
      "Epoch: 1170 Loss: 0.046578679233789444\n",
      "Epoch: 1180 Loss: 0.04657866060733795\n",
      "Epoch: 1190 Loss: 0.04657868295907974\n",
      "Epoch: 1200 Loss: 0.04658054560422897\n",
      "Epoch: 1210 Loss: 0.04688127338886261\n",
      "Epoch: 1220 Loss: 0.04665413126349449\n",
      "Epoch: 1230 Loss: 0.04661617428064346\n",
      "Epoch: 1240 Loss: 0.046592358499765396\n",
      "Epoch: 1250 Loss: 0.04658200591802597\n",
      "Epoch: 1260 Loss: 0.04658034071326256\n",
      "Epoch: 1270 Loss: 0.04658019170165062\n",
      "Epoch: 1280 Loss: 0.04658021777868271\n",
      "Epoch: 1290 Loss: 0.046579908579587936\n",
      "Epoch: 1300 Loss: 0.04657942056655884\n",
      "Epoch: 1310 Loss: 0.04657905921339989\n",
      "Epoch: 1320 Loss: 0.04657900333404541\n",
      "Epoch: 1330 Loss: 0.04657895117998123\n",
      "Epoch: 1340 Loss: 0.04657889902591705\n",
      "Epoch: 1350 Loss: 0.04657886549830437\n",
      "Epoch: 1360 Loss: 0.04657880216836929\n",
      "Epoch: 1370 Loss: 0.0465787909924984\n",
      "Epoch: 1380 Loss: 0.046578772366046906\n",
      "Epoch: 1390 Loss: 0.04657872021198273\n",
      "Epoch: 1400 Loss: 0.04657872021198273\n",
      "Epoch: 1410 Loss: 0.046578697860240936\n",
      "Epoch: 1420 Loss: 0.04657865688204765\n",
      "Epoch: 1430 Loss: 0.046578649431467056\n",
      "Epoch: 1440 Loss: 0.04657863825559616\n",
      "Epoch: 1450 Loss: 0.04657861962914467\n",
      "Epoch: 1460 Loss: 0.04657861217856407\n",
      "Epoch: 1470 Loss: 0.04657861962914467\n",
      "Epoch: 1480 Loss: 0.04657901078462601\n",
      "Epoch: 1490 Loss: 0.04664270952343941\n",
      "Epoch: 1500 Loss: 0.04827631264925003\n",
      "Epoch: 1510 Loss: 0.047125980257987976\n",
      "Epoch: 1520 Loss: 0.04677380993962288\n",
      "Epoch: 1530 Loss: 0.04665251821279526\n",
      "Epoch: 1540 Loss: 0.04660458862781525\n",
      "Epoch: 1550 Loss: 0.04658808931708336\n",
      "Epoch: 1560 Loss: 0.04658251628279686\n",
      "Epoch: 1570 Loss: 0.046580422669649124\n",
      "Epoch: 1580 Loss: 0.046579454094171524\n",
      "Epoch: 1590 Loss: 0.04657909646630287\n",
      "Epoch: 1600 Loss: 0.046578992158174515\n",
      "Epoch: 1610 Loss: 0.04657897725701332\n",
      "Epoch: 1620 Loss: 0.04657889902591705\n",
      "Epoch: 1630 Loss: 0.04657885804772377\n",
      "Epoch: 1640 Loss: 0.04657880216836929\n",
      "Epoch: 1650 Loss: 0.04657876119017601\n",
      "Epoch: 1660 Loss: 0.04657873883843422\n",
      "Epoch: 1670 Loss: 0.04657870903611183\n",
      "Epoch: 1680 Loss: 0.046578679233789444\n",
      "Epoch: 1690 Loss: 0.046578653156757355\n",
      "Epoch: 1700 Loss: 0.04657864570617676\n",
      "Epoch: 1710 Loss: 0.046578627079725266\n",
      "Epoch: 1720 Loss: 0.046578601002693176\n",
      "Epoch: 1730 Loss: 0.04657860845327377\n",
      "Epoch: 1740 Loss: 0.046578548848629\n",
      "Epoch: 1750 Loss: 0.046578604727983475\n",
      "Epoch: 1760 Loss: 0.046578552573919296\n",
      "Epoch: 1770 Loss: 0.046579018235206604\n",
      "Epoch: 1780 Loss: 0.046641185879707336\n",
      "Epoch: 1790 Loss: 0.04842374473810196\n",
      "Epoch: 1800 Loss: 0.04701720550656319\n",
      "Epoch: 1810 Loss: 0.046709731221199036\n",
      "Epoch: 1820 Loss: 0.046629827469587326\n",
      "Epoch: 1830 Loss: 0.04659786447882652\n",
      "Epoch: 1840 Loss: 0.0465850904583931\n",
      "Epoch: 1850 Loss: 0.04658049717545509\n",
      "Epoch: 1860 Loss: 0.04657917842268944\n",
      "Epoch: 1870 Loss: 0.046579111367464066\n",
      "Epoch: 1880 Loss: 0.04657907038927078\n",
      "Epoch: 1890 Loss: 0.04657895863056183\n",
      "Epoch: 1900 Loss: 0.046578869223594666\n",
      "Epoch: 1910 Loss: 0.04657882824540138\n",
      "Epoch: 1920 Loss: 0.046578772366046906\n",
      "Epoch: 1930 Loss: 0.046578723937273026\n",
      "Epoch: 1940 Loss: 0.046578697860240936\n",
      "Epoch: 1950 Loss: 0.046578653156757355\n",
      "Epoch: 1960 Loss: 0.046578630805015564\n",
      "Epoch: 1970 Loss: 0.046578601002693176\n",
      "Epoch: 1980 Loss: 0.04657857120037079\n",
      "Epoch: 1990 Loss: 0.04657857492566109\n",
      "Epoch: 2000 Loss: 0.046578582376241684\n",
      "Epoch: 2010 Loss: 0.04657851159572601\n",
      "Epoch: 2020 Loss: 0.0465785451233387\n",
      "Epoch: 2030 Loss: 0.04657851159572601\n",
      "Epoch: 2040 Loss: 0.0465785376727581\n",
      "Epoch: 2050 Loss: 0.04657960683107376\n",
      "Epoch: 2060 Loss: 0.046726539731025696\n",
      "Epoch: 2070 Loss: 0.0468856506049633\n",
      "Epoch: 2080 Loss: 0.046996716409921646\n",
      "Epoch: 2090 Loss: 0.04673141613602638\n",
      "Epoch: 2100 Loss: 0.04663294926285744\n",
      "Epoch: 2110 Loss: 0.04659892991185188\n",
      "Epoch: 2120 Loss: 0.046586379408836365\n",
      "Epoch: 2130 Loss: 0.0465812012553215\n",
      "Epoch: 2140 Loss: 0.04657925292849541\n",
      "Epoch: 2150 Loss: 0.046578988432884216\n",
      "Epoch: 2160 Loss: 0.04657900333404541\n",
      "Epoch: 2170 Loss: 0.04657883942127228\n",
      "Epoch: 2180 Loss: 0.046578798443078995\n",
      "Epoch: 2190 Loss: 0.046578772366046906\n",
      "Epoch: 2200 Loss: 0.04657866805791855\n",
      "Epoch: 2210 Loss: 0.04657868295907974\n",
      "Epoch: 2220 Loss: 0.04657863825559616\n",
      "Epoch: 2230 Loss: 0.04657861962914467\n",
      "Epoch: 2240 Loss: 0.04657859355211258\n",
      "Epoch: 2250 Loss: 0.046578552573919296\n",
      "Epoch: 2260 Loss: 0.046578530222177505\n",
      "Epoch: 2270 Loss: 0.046578548848629\n",
      "Epoch: 2280 Loss: 0.04657850041985512\n",
      "Epoch: 2290 Loss: 0.046578481793403625\n",
      "Epoch: 2300 Loss: 0.04657848924398422\n",
      "Epoch: 2310 Loss: 0.04657846689224243\n",
      "Epoch: 2320 Loss: 0.04657848924398422\n",
      "Epoch: 2330 Loss: 0.04657864198088646\n",
      "Epoch: 2340 Loss: 0.04661843553185463\n",
      "Epoch: 2350 Loss: 0.04920381307601929\n",
      "Epoch: 2360 Loss: 0.04733647033572197\n",
      "Epoch: 2370 Loss: 0.046793095767498016\n",
      "Epoch: 2380 Loss: 0.046590182930231094\n",
      "Epoch: 2390 Loss: 0.046584829688072205\n",
      "Epoch: 2400 Loss: 0.04658818989992142\n",
      "Epoch: 2410 Loss: 0.04658332094550133\n",
      "Epoch: 2420 Loss: 0.04658042639493942\n",
      "Epoch: 2430 Loss: 0.04657945781946182\n",
      "Epoch: 2440 Loss: 0.04657915607094765\n",
      "Epoch: 2450 Loss: 0.0465790219604969\n",
      "Epoch: 2460 Loss: 0.04657893627882004\n",
      "Epoch: 2470 Loss: 0.04657883942127228\n",
      "Epoch: 2480 Loss: 0.04657876491546631\n",
      "Epoch: 2490 Loss: 0.046578750014305115\n",
      "Epoch: 2500 Loss: 0.04657866060733795\n",
      "Epoch: 2510 Loss: 0.04657865688204765\n",
      "Epoch: 2520 Loss: 0.04657861217856407\n",
      "Epoch: 2530 Loss: 0.04657858982682228\n",
      "Epoch: 2540 Loss: 0.046578533947467804\n",
      "Epoch: 2550 Loss: 0.046578533947467804\n",
      "Epoch: 2560 Loss: 0.04657851159572601\n",
      "Epoch: 2570 Loss: 0.046578481793403625\n",
      "Epoch: 2580 Loss: 0.04657847434282303\n",
      "Epoch: 2590 Loss: 0.04657845199108124\n",
      "Epoch: 2600 Loss: 0.04657846689224243\n",
      "Epoch: 2610 Loss: 0.04657844081521034\n",
      "Epoch: 2620 Loss: 0.04657845199108124\n",
      "Epoch: 2630 Loss: 0.04657840356230736\n",
      "Epoch: 2640 Loss: 0.04657842591404915\n",
      "Epoch: 2650 Loss: 0.046578552573919296\n",
      "Epoch: 2660 Loss: 0.046591512858867645\n",
      "Epoch: 2670 Loss: 0.04795015603303909\n",
      "Epoch: 2680 Loss: 0.0471486933529377\n",
      "Epoch: 2690 Loss: 0.046826768666505814\n",
      "Epoch: 2700 Loss: 0.046661972999572754\n",
      "Epoch: 2710 Loss: 0.04660441726446152\n",
      "Epoch: 2720 Loss: 0.04658465459942818\n",
      "Epoch: 2730 Loss: 0.046579256653785706\n",
      "Epoch: 2740 Loss: 0.04657912999391556\n",
      "Epoch: 2750 Loss: 0.046579305082559586\n",
      "Epoch: 2760 Loss: 0.04657886549830437\n",
      "Epoch: 2770 Loss: 0.04657873883843422\n",
      "Epoch: 2780 Loss: 0.04657871276140213\n",
      "Epoch: 2790 Loss: 0.04657863825559616\n",
      "Epoch: 2800 Loss: 0.04657856747508049\n",
      "Epoch: 2810 Loss: 0.046578601002693176\n",
      "Epoch: 2820 Loss: 0.0465785451233387\n",
      "Epoch: 2830 Loss: 0.046578504145145416\n",
      "Epoch: 2840 Loss: 0.04657849296927452\n",
      "Epoch: 2850 Loss: 0.046578459441661835\n",
      "Epoch: 2860 Loss: 0.046578459441661835\n",
      "Epoch: 2870 Loss: 0.04657842218875885\n",
      "Epoch: 2880 Loss: 0.04657842218875885\n",
      "Epoch: 2890 Loss: 0.04657839238643646\n",
      "Epoch: 2900 Loss: 0.04657842963933945\n",
      "Epoch: 2910 Loss: 0.046578604727983475\n",
      "Epoch: 2920 Loss: 0.04659782722592354\n",
      "Epoch: 2930 Loss: 0.04833144322037697\n",
      "Epoch: 2940 Loss: 0.04682031646370888\n",
      "Epoch: 2950 Loss: 0.0467597171664238\n",
      "Epoch: 2960 Loss: 0.046653296798467636\n",
      "Epoch: 2970 Loss: 0.046605367213487625\n",
      "Epoch: 2980 Loss: 0.046585697680711746\n",
      "Epoch: 2990 Loss: 0.046579401940107346\n",
      "Epoch: 3000 Loss: 0.04657907783985138\n",
      "Epoch: 3010 Loss: 0.04657921567559242\n",
      "Epoch: 3020 Loss: 0.046578776091337204\n",
      "Epoch: 3030 Loss: 0.046578723937273026\n",
      "Epoch: 3040 Loss: 0.04657863825559616\n",
      "Epoch: 3050 Loss: 0.04657859727740288\n",
      "Epoch: 3060 Loss: 0.046578552573919296\n",
      "Epoch: 3070 Loss: 0.0465785451233387\n",
      "Epoch: 3080 Loss: 0.04657849296927452\n",
      "Epoch: 3090 Loss: 0.04657846689224243\n",
      "Epoch: 3100 Loss: 0.04657844081521034\n",
      "Epoch: 3110 Loss: 0.04657842963933945\n",
      "Epoch: 3120 Loss: 0.04657844454050064\n",
      "Epoch: 3130 Loss: 0.04657841473817825\n",
      "Epoch: 3140 Loss: 0.04657835140824318\n",
      "Epoch: 3150 Loss: 0.046578358858823776\n",
      "Epoch: 3160 Loss: 0.046578362584114075\n",
      "Epoch: 3170 Loss: 0.046578407287597656\n",
      "Epoch: 3180 Loss: 0.046585265547037125\n",
      "Epoch: 3190 Loss: 0.047759249806404114\n",
      "Epoch: 3200 Loss: 0.047390732914209366\n",
      "Epoch: 3210 Loss: 0.046863239258527756\n",
      "Epoch: 3220 Loss: 0.04665927216410637\n",
      "Epoch: 3230 Loss: 0.046598706394433975\n",
      "Epoch: 3240 Loss: 0.046584151685237885\n",
      "Epoch: 3250 Loss: 0.04658087342977524\n",
      "Epoch: 3260 Loss: 0.046579886227846146\n",
      "Epoch: 3270 Loss: 0.046579401940107346\n",
      "Epoch: 3280 Loss: 0.04657901078462601\n",
      "Epoch: 3290 Loss: 0.046578750014305115\n",
      "Epoch: 3300 Loss: 0.04657868295907974\n",
      "Epoch: 3310 Loss: 0.046578653156757355\n",
      "Epoch: 3320 Loss: 0.04657857492566109\n",
      "Epoch: 3330 Loss: 0.04657851904630661\n",
      "Epoch: 3340 Loss: 0.0465785451233387\n",
      "Epoch: 3350 Loss: 0.046578507870435715\n",
      "Epoch: 3360 Loss: 0.04657847806811333\n",
      "Epoch: 3370 Loss: 0.046578455716371536\n",
      "Epoch: 3380 Loss: 0.046578407287597656\n",
      "Epoch: 3390 Loss: 0.04657841473817825\n",
      "Epoch: 3400 Loss: 0.04657839983701706\n",
      "Epoch: 3410 Loss: 0.046578362584114075\n",
      "Epoch: 3420 Loss: 0.046578388661146164\n",
      "Epoch: 3430 Loss: 0.046578358858823776\n",
      "Epoch: 3440 Loss: 0.04657833278179169\n",
      "Epoch: 3450 Loss: 0.046578336507081985\n",
      "Epoch: 3460 Loss: 0.04657835513353348\n",
      "Epoch: 3470 Loss: 0.04658026620745659\n",
      "Epoch: 3480 Loss: 0.04689275473356247\n",
      "Epoch: 3490 Loss: 0.04674367606639862\n",
      "Epoch: 3500 Loss: 0.04658275470137596\n",
      "Epoch: 3510 Loss: 0.046580057591199875\n",
      "Epoch: 3520 Loss: 0.046579085290431976\n",
      "Epoch: 3530 Loss: 0.0465790256857872\n",
      "Epoch: 3540 Loss: 0.046579115092754364\n",
      "Epoch: 3550 Loss: 0.04657933861017227\n",
      "Epoch: 3560 Loss: 0.046579327434301376\n",
      "Epoch: 3570 Loss: 0.04657898098230362\n",
      "Epoch: 3580 Loss: 0.046578679233789444\n",
      "Epoch: 3590 Loss: 0.04657860845327377\n",
      "Epoch: 3600 Loss: 0.04657857492566109\n",
      "Epoch: 3610 Loss: 0.046578533947467804\n",
      "Epoch: 3620 Loss: 0.04657851532101631\n",
      "Epoch: 3630 Loss: 0.04657846689224243\n",
      "Epoch: 3640 Loss: 0.04657842591404915\n",
      "Epoch: 3650 Loss: 0.04657839611172676\n",
      "Epoch: 3660 Loss: 0.04657842591404915\n",
      "Epoch: 3670 Loss: 0.046578358858823776\n",
      "Epoch: 3680 Loss: 0.046578362584114075\n",
      "Epoch: 3690 Loss: 0.046578314155340195\n",
      "Epoch: 3700 Loss: 0.0465783067047596\n",
      "Epoch: 3710 Loss: 0.04657832533121109\n",
      "Epoch: 3720 Loss: 0.046578299254179\n",
      "Epoch: 3730 Loss: 0.046578340232372284\n",
      "Epoch: 3740 Loss: 0.0465783067047596\n",
      "Epoch: 3750 Loss: 0.046578604727983475\n",
      "Epoch: 3760 Loss: 0.04661736264824867\n",
      "Epoch: 3770 Loss: 0.04875926673412323\n",
      "Epoch: 3780 Loss: 0.04682641848921776\n",
      "Epoch: 3790 Loss: 0.04664965346455574\n",
      "Epoch: 3800 Loss: 0.046611443161964417\n",
      "Epoch: 3810 Loss: 0.04659217223525047\n",
      "Epoch: 3820 Loss: 0.04658310115337372\n",
      "Epoch: 3830 Loss: 0.04657964035868645\n",
      "Epoch: 3840 Loss: 0.04657876491546631\n",
      "Epoch: 3850 Loss: 0.04657876119017601\n",
      "Epoch: 3860 Loss: 0.04657875373959541\n",
      "Epoch: 3870 Loss: 0.046578630805015564\n",
      "Epoch: 3880 Loss: 0.04657852649688721\n",
      "Epoch: 3890 Loss: 0.046578507870435715\n",
      "Epoch: 3900 Loss: 0.046578459441661835\n",
      "Epoch: 3910 Loss: 0.04657841473817825\n",
      "Epoch: 3920 Loss: 0.04657842591404915\n",
      "Epoch: 3930 Loss: 0.046578407287597656\n",
      "Epoch: 3940 Loss: 0.04657837375998497\n",
      "Epoch: 3950 Loss: 0.046578336507081985\n",
      "Epoch: 3960 Loss: 0.04657833278179169\n",
      "Epoch: 3970 Loss: 0.04657834395766258\n",
      "Epoch: 3980 Loss: 0.04657832160592079\n",
      "Epoch: 3990 Loss: 0.04657828435301781\n"
     ]
    }
   ],
   "source": [
    "# Train our model\n",
    "# Epoch ( one run thru all training data)\n",
    "epochs = 4000\n",
    "losses = []\n",
    "for i in range(epochs):\n",
    "    # Forward pass\n",
    "    y_pred = model.forward(X_train)\n",
    "    # Compute the loss\n",
    "    loss = criterion(y_pred, y_train)\n",
    "    losses.append(loss.detach().numpy())\n",
    "    if i % 10 == 0:\n",
    "        print(f'Epoch: {i} Loss: {loss.item()}')\n",
    "    # Do some backward propagation: take the errror rate of forward propagation\n",
    "    # and feed it back thru the netwrork to adjust the weights (fine -tuning)\n",
    "    # Zero the gradients\n",
    "    optimizer.zero_grad()\n",
    "    # Backward pass\n",
    "    loss.backward()\n",
    "    # Update the weights\n",
    "    optimizer.step()"
   ]
  },
  {
   "cell_type": "code",
   "execution_count": 124,
   "metadata": {},
   "outputs": [
    {
     "data": {
      "text/plain": [
       "[<matplotlib.lines.Line2D at 0x1e5cfce0f20>]"
      ]
     },
     "execution_count": 124,
     "metadata": {},
     "output_type": "execute_result"
    },
    {
     "data": {
      "image/png": "[encoded data removed]",
      "text/plain": [
       "<Figure size 640x480 with 1 Axes>"
      ]
     },
     "metadata": {},
     "output_type": "display_data"
    }
   ],
   "source": [
    "plt.plot(range(epochs), losses)"
   ]
  },
  {
   "cell_type": "code",
   "execution_count": 125,
   "metadata": {},
   "outputs": [
    {
     "name": "stdout",
     "output_type": "stream",
     "text": [
      "Loss: 0.01534220\n"
     ]
    }
   ],
   "source": [
    "# Validate the model\n",
    "# Set the model to evaluation mode\n",
    "model.eval()\n",
    "with torch.no_grad():\n",
    "    y_val = model.forward(X_test)\n",
    "    loss = criterion(y_val, y_test)\n",
    "print(f'Loss: {loss:.8f}')\n"
   ]
  },
  {
   "cell_type": "code",
   "execution_count": 126,
   "metadata": {},
   "outputs": [
    {
     "name": "stdout",
     "output_type": "stream",
     "text": [
      "Prediction: 1 True: 1\n",
      "Prediction: 0 True: 0\n",
      "Prediction: 2 True: 2\n",
      "Prediction: 1 True: 1\n",
      "Prediction: 1 True: 1\n",
      "Prediction: 0 True: 0\n",
      "Prediction: 1 True: 1\n",
      "Prediction: 2 True: 2\n",
      "Prediction: 1 True: 1\n",
      "Prediction: 1 True: 1\n",
      "Prediction: 2 True: 2\n",
      "Prediction: 0 True: 0\n",
      "Prediction: 0 True: 0\n",
      "Prediction: 0 True: 0\n",
      "Prediction: 0 True: 0\n",
      "Prediction: 1 True: 1\n",
      "Prediction: 2 True: 2\n",
      "Prediction: 1 True: 1\n",
      "Prediction: 1 True: 1\n",
      "Prediction: 2 True: 2\n",
      "Prediction: 0 True: 0\n",
      "Prediction: 2 True: 2\n",
      "Prediction: 0 True: 0\n",
      "Prediction: 2 True: 2\n",
      "Prediction: 2 True: 2\n",
      "Prediction: 2 True: 2\n",
      "Prediction: 2 True: 2\n",
      "Prediction: 2 True: 2\n",
      "Prediction: 0 True: 0\n",
      "Prediction: 0 True: 0\n"
     ]
    }
   ],
   "source": [
    "for i, j in enumerate(y_val):\n",
    "    print(f'Prediction: {torch.argmax(j).item()} True: {y_test[i]}')"
   ]
  },
  {
   "cell_type": "code",
   "execution_count": 127,
   "metadata": {},
   "outputs": [
    {
     "name": "stdout",
     "output_type": "stream",
     "text": [
      "Prediction: 1 True: 1\n",
      "Prediction: 0 True: 0\n",
      "Prediction: 2 True: 2\n",
      "Prediction: 1 True: 1\n",
      "Prediction: 1 True: 1\n",
      "Prediction: 0 True: 0\n",
      "Prediction: 1 True: 1\n",
      "Prediction: 2 True: 2\n",
      "Prediction: 1 True: 1\n",
      "Prediction: 1 True: 1\n",
      "Prediction: 2 True: 2\n",
      "Prediction: 0 True: 0\n",
      "Prediction: 0 True: 0\n",
      "Prediction: 0 True: 0\n",
      "Prediction: 0 True: 0\n",
      "Prediction: 1 True: 1\n",
      "Prediction: 2 True: 2\n",
      "Prediction: 1 True: 1\n",
      "Prediction: 1 True: 1\n",
      "Prediction: 2 True: 2\n",
      "Prediction: 0 True: 0\n",
      "Prediction: 2 True: 2\n",
      "Prediction: 0 True: 0\n",
      "Prediction: 2 True: 2\n",
      "Prediction: 2 True: 2\n",
      "Prediction: 2 True: 2\n",
      "Prediction: 2 True: 2\n",
      "Prediction: 2 True: 2\n",
      "Prediction: 0 True: 0\n",
      "Prediction: 0 True: 0\n"
     ]
    }
   ],
   "source": [
    "correct = 0\n",
    "with torch.no_grad():\n",
    "    for i, data in enumerate(X_test):\n",
    "        y_val = model.forward(data)\n",
    "        print(f'Prediction: {torch.argmax(y_val).item()} True: {y_test[i]}')\n",
    "        if torch.argmax(y_val).item() == y_test[i]:\n",
    "            correct += 1"
   ]
  },
  {
   "cell_type": "code",
   "execution_count": 115,
   "metadata": {},
   "outputs": [
    {
     "name": "stdout",
     "output_type": "stream",
     "text": [
      "Prediction: 1 True: 1\n",
      "Prediction: 0 True: 0\n",
      "Prediction: 2 True: 2\n",
      "Prediction: 1 True: 1\n",
      "Prediction: 1 True: 1\n",
      "Prediction: 0 True: 0\n",
      "Prediction: 1 True: 1\n",
      "Prediction: 2 True: 2\n",
      "Prediction: 1 True: 1\n",
      "Prediction: 1 True: 1\n",
      "Prediction: 2 True: 2\n",
      "Prediction: 0 True: 0\n",
      "Prediction: 0 True: 0\n",
      "Prediction: 0 True: 0\n",
      "Prediction: 0 True: 0\n",
      "Prediction: 1 True: 1\n",
      "Prediction: 2 True: 2\n",
      "Prediction: 1 True: 1\n",
      "Prediction: 1 True: 1\n",
      "Prediction: 2 True: 2\n",
      "Prediction: 0 True: 0\n",
      "Prediction: 2 True: 2\n",
      "Prediction: 0 True: 0\n",
      "Prediction: 2 True: 2\n",
      "Prediction: 2 True: 2\n",
      "Prediction: 2 True: 2\n",
      "Prediction: 2 True: 2\n",
      "Prediction: 2 True: 2\n",
      "Prediction: 0 True: 0\n",
      "Prediction: 0 True: 0\n",
      "We got 30 correct over 30!\n"
     ]
    }
   ],
   "source": [
    "correct = 0\n",
    "for i, data in enumerate(X_test):\n",
    "    # print(\"Value of i____________:\",i,\"value of data______________:\",data)\n",
    "    y_pred = model.forward(data)\n",
    "    \n",
    "    # print(y_pred)\n",
    "    prediction = torch.argmax(y_pred).item()\n",
    "    if prediction == y_test[i]:\n",
    "        correct += 1\n",
    "        print(f\"Prediction: {prediction} True: {y_test[i]}\")\n",
    "    # print(\"Value of y_pred____________:\",torch.argmax(y_pred).item(), )\n",
    "print(f'We got {correct} correct over {len(X_test)}!')"
   ]
  },
  {
   "cell_type": "code",
   "execution_count": 116,
   "metadata": {},
   "outputs": [
    {
     "data": {
      "text/plain": [
       "tensor([1, 0, 2, 1, 1, 0, 1, 2, 1, 1, 2, 0, 0, 0, 0, 1, 2, 1, 1, 2, 0, 2, 0, 2,\n",
       "        2, 2, 2, 2, 0, 0])"
      ]
     },
     "execution_count": 116,
     "metadata": {},
     "output_type": "execute_result"
    }
   ],
   "source": [
    "y_test"
   ]
  },
  {
   "cell_type": "code",
   "execution_count": 117,
   "metadata": {},
   "outputs": [
    {
     "data": {
      "text/plain": [
       "1"
      ]
     },
     "execution_count": 117,
     "metadata": {},
     "output_type": "execute_result"
    }
   ],
   "source": [
    "y_pred = torch.tensor([0.6, 0.2, 0.7])\n",
    "torch.argmin(y_pred).item()"
   ]
  },
  {
   "cell_type": "code",
   "execution_count": null,
   "metadata": {},
   "outputs": [],
   "source": []
  },
  {
   "cell_type": "code",
   "execution_count": null,
   "metadata": {},
   "outputs": [],
   "source": []
  },
  {
   "cell_type": "code",
   "execution_count": null,
   "metadata": {},
   "outputs": [],
   "source": []
  },
  {
   "cell_type": "code",
   "execution_count": null,
   "metadata": {},
   "outputs": [],
   "source": []
  }
 ],
 "metadata": {
  "kernelspec": {
   "display_name": "Python 3",
   "language": "python",
   "name": "python3"
  },
  "language_info": {
   "codemirror_mode": {
    "name": "ipython",
    "version": 3
   },
   "file_extension": ".py",
   "mimetype": "text/x-python",
   "name": "python",
   "nbconvert_exporter": "python",
   "pygments_lexer": "ipython3",
   "version": "3.12.1"
  }
 },
 "nbformat": 4,
 "nbformat_minor": 2
}
